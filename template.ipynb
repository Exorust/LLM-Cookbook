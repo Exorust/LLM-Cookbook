{
 "cells": [
  {
   "cell_type": "markdown",
   "metadata": {},
   "source": [
    "# Main Question to be answered"
   ]
  },
  {
   "cell_type": "markdown",
   "metadata": {},
   "source": [
    "## Comparision Between methods\n",
    "| Method | About | Pros | Cons |\n",
    "|----------|----------|----------|----------|\n",
    "| VLLM    |          |          |          |\n",
    "| BentoML    |          |          |          |\n",
    "| Row 3    |          |          |          |"
   ]
  },
  {
   "cell_type": "markdown",
   "metadata": {},
   "source": [
    "## References\n",
    "\n",
    "This project uses code from the following source:\n",
    "- ****: Available at: [URL to the original source]()"
   ]
  }
 ],
 "metadata": {
  "language_info": {
   "name": "python"
  }
 },
 "nbformat": 4,
 "nbformat_minor": 2
}
