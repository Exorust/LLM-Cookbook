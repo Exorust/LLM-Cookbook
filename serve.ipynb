{
 "cells": [
  {
   "cell_type": "markdown",
   "metadata": {},
   "source": [
    "# Serve a LLM on a RestAPI for Android/Web Consumption\n",
    "\n",
    "Let's serve an LLM via torchserve so that we can consume it via a rest API!\n",
    "\n",
    "We are taking inspiration from this post: https://github.com/pytorch/serve/tree/master/examples/Huggingface_Transformers"
   ]
  },
  {
   "cell_type": "markdown",
   "metadata": {},
   "source": [
    "## Step 1: Setup "
   ]
  }
 ],
 "metadata": {
  "language_info": {
   "name": "python"
  }
 },
 "nbformat": 4,
 "nbformat_minor": 2
}
